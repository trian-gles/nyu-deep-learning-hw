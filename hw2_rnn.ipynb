{
  "nbformat": 4,
  "nbformat_minor": 0,
  "metadata": {
    "colab": {
      "name": "hw2_rnn.ipynb",
      "provenance": [],
      "collapsed_sections": [
        "JUbvDw31eJvY"
      ],
      "include_colab_link": true
    },
    "kernelspec": {
      "name": "python3",
      "display_name": "Python 3"
    }
  },
  "cells": [
    {
      "cell_type": "markdown",
      "metadata": {
        "id": "view-in-github",
        "colab_type": "text"
      },
      "source": [
        "<a href=\"https://colab.research.google.com/github/trian-gles/nyu-deep-learning-hw/blob/main/hw2_rnn.ipynb\" target=\"_parent\"><img src=\"https://colab.research.google.com/assets/colab-badge.svg\" alt=\"Open In Colab\"/></a>"
      ]
    },
    {
      "cell_type": "markdown",
      "metadata": {
        "id": "PtcBjMq7YV3f"
      },
      "source": [
        "# Homework 2 - Recurrent Neural Networks"
      ]
    },
    {
      "cell_type": "markdown",
      "metadata": {
        "id": "Rn-cOk1iZTtR"
      },
      "source": [
        "In this part of the homework we are going to work with Recurrent Neural Networks, in particular GRU. One of the greatest things that Recurrent Neural Networks can do when working with sequences is retaining data from several timesteps in the past. We are going to explore that property by constructing an 'echo' Recurrent Neural Network.\n",
        "\n",
        "The goal here is to make a model that given a sequence of letters or digits will output that same sequence, but with a certain delay. Let's say the input is a string 'abacaba', we want the model to not output anything for 3 steps (delay length), and then output the original string step by step, except the last 3 characters. So, target output is then 'XXXabac', where 'X' is empty output.\n",
        "\n",
        "This is similar to [this notebook](https://github.com/Atcold/pytorch-Deep-Learning/blob/master/09-echo_data.ipynb) (which you should refer to when doing this assignment), except we're working not with a binary string, but with a sequence of integers between 0 and some N. In our case N is 26, which is the number of letters in the alphabet."
      ]
    },
    {
      "cell_type": "markdown",
      "metadata": {
        "id": "npLlE973as6x"
      },
      "source": [
        "## Dataset\n",
        "\n",
        "Let's implement the dataset. In our case, the data is basically infinite, as we can always generate more examples on the fly, so don't need to load anything from disk."
      ]
    },
    {
      "cell_type": "code",
      "metadata": {
        "id": "mkEEMyvzIMRx"
      },
      "source": [
        "import random\n",
        "import string\n",
        "\n",
        "import torch\n",
        "\n",
        "# Max value of the generated integer. 26 is chosen becuase it's\n",
        "# the number of letters in English alphabet.\n",
        "N = 26\n",
        "\n",
        "\n",
        "def idx_to_onehot(x, k=N+1):\n",
        "  \"\"\" Converts the generated integers to one-hot vectors \"\"\"\n",
        "  ones = torch.sparse.torch.eye(k)\n",
        "  shape = x.shape\n",
        "  res = ones.index_select(0, x.view(-1).type(torch.int64))\n",
        "  return res.view(*shape, res.shape[-1])\n",
        "\n",
        "\n",
        "class EchoDataset(torch.utils.data.IterableDataset):\n",
        "\n",
        "  def __init__(self, delay=4, seq_length=15, size=1000):\n",
        "    self.delay = delay\n",
        "    self.seq_length = seq_length\n",
        "    self.size = size\n",
        "  \n",
        "  def __len__(self):\n",
        "    return self.size\n",
        "\n",
        "  def __iter__(self):\n",
        "    \"\"\" Iterable dataset doesn't have to implement __getitem__.\n",
        "        Instead, we only need to implement __iter__ to return\n",
        "        an iterator (or generator).\n",
        "    \"\"\"\n",
        "    for _ in range(self.size):\n",
        "      seq = torch.tensor([random.choice(range(1, N + 1)) for i in range(self.seq_length)], dtype=torch.int64)\n",
        "      result = torch.cat((torch.zeros(self.delay), seq[:self.seq_length - self.delay])).type(torch.int64)\n",
        "      yield seq, result\n",
        "\n",
        "DELAY = 4\n",
        "DATASET_SIZE = 200000\n",
        "ds = EchoDataset(delay=DELAY, size=DATASET_SIZE)"
      ],
      "execution_count": 25,
      "outputs": []
    },
    {
      "cell_type": "code",
      "source": [
        "import torch\n",
        "import torch.nn as nn\n",
        "# import torch.nn.functional as F\n",
        "import torch.optim as optim\n",
        "\n",
        "torch.manual_seed(1);"
      ],
      "metadata": {
        "id": "I5lMg1S_gwxi"
      },
      "execution_count": 26,
      "outputs": []
    },
    {
      "cell_type": "code",
      "source": [
        "one = torch.tensor([[1, 2, 3]])\n",
        "two = torch.tensor([[4, 5, 6]])\n",
        "one.shape"
      ],
      "metadata": {
        "id": "wonsFi3zmTui",
        "outputId": "514935b1-cd56-455e-cd7f-7fc1d2347136",
        "colab": {
          "base_uri": "https://localhost:8080/"
        }
      },
      "execution_count": 27,
      "outputs": [
        {
          "output_type": "execute_result",
          "data": {
            "text/plain": [
              "torch.Size([1, 3])"
            ]
          },
          "metadata": {},
          "execution_count": 27
        }
      ]
    },
    {
      "cell_type": "markdown",
      "metadata": {
        "id": "nNrZqYURcKSl"
      },
      "source": [
        "## Model\n",
        "\n",
        "Now, we want to implement the model. For our purposes, we want to use GRU. The architecture consists of GRU and a decoder. Decoder is responsible for decoding the GRU hidden state to yield a predicting for the next output. The parts you are responsible for filling with your code are marked with `TODO`. "
      ]
    },
    {
      "cell_type": "code",
      "source": [
        "char_dict = { string.ascii_lowercase[idx] : idx + 1 for idx in range(26)}\n",
        "\n",
        "def char_to_int(char):\n",
        "  return char_dict[char]\n",
        "\n",
        "def int_to_char(i):\n",
        "  if i == 0:\n",
        "    return 'X'\n",
        "  else:\n",
        "    return string.ascii_lowercase[i - 1]"
      ],
      "metadata": {
        "id": "Zwl7OIjXTpee"
      },
      "execution_count": 28,
      "outputs": []
    },
    {
      "cell_type": "code",
      "metadata": {
        "id": "nigN_o4Mb9Nx"
      },
      "source": [
        "class GRUMemory(torch.nn.Module):\n",
        "\n",
        "  def __init__(self, hidden_size):\n",
        "    super().__init__()\n",
        "\n",
        "    self.gru = torch.nn.GRU(\n",
        "        input_size = N + 1,\n",
        "        hidden_size = hidden_size,\n",
        "        batch_first = True\n",
        "    )\n",
        "\n",
        "    self.linear = torch.nn.Linear(\n",
        "            in_features=hidden_size,\n",
        "            out_features=N + 1\n",
        "        )\n",
        "\n",
        "  def forward(self, x):\n",
        "    x, _ = self.gru(x)\n",
        "    return self.linear(x)\n",
        "\n",
        "  @torch.no_grad()\n",
        "  def test_run(self, s):\n",
        "    seq = torch.tensor([[char_dict[char] for char in s]])\n",
        "    x = idx_to_onehot(seq)\n",
        "    y = self(x)[0]\n",
        "    pred = y.argmax(dim=1)\n",
        "    s = \"\".join([int_to_char(i) for i in pred])\n",
        "    return s"
      ],
      "execution_count": 29,
      "outputs": []
    },
    {
      "cell_type": "code",
      "source": [
        "class LSTMMemory(torch.nn.Module):\n",
        "\n",
        "  def __init__(self, hidden_size):\n",
        "    super().__init__()\n",
        "\n",
        "    self.lstm = torch.nn.LSTM(\n",
        "        input_size = N + 1,\n",
        "        hidden_size = hidden_size,\n",
        "        batch_first = True\n",
        "    )\n",
        "\n",
        "    self.linear = torch.nn.Linear(\n",
        "            in_features=hidden_size,\n",
        "            out_features=N + 1\n",
        "        )\n",
        "\n",
        "  def forward(self, x):\n",
        "    h = self.lstm(x)[0]\n",
        "    return self.linear(h)\n",
        "\n",
        "  @torch.no_grad()\n",
        "  def test_run(self, s):\n",
        "    seq = torch.tensor([[char_dict[char] for char in s]])\n",
        "    x = idx_to_onehot(seq)\n",
        "    y = self(x)[0]\n",
        "    pred = y.argmax(dim=1)\n",
        "    s = \"\".join([int_to_char(i) for i in pred])\n",
        "    return s"
      ],
      "metadata": {
        "id": "ba2C4Vi4LoTl"
      },
      "execution_count": 37,
      "outputs": []
    },
    {
      "cell_type": "markdown",
      "metadata": {
        "id": "A9whwmVu9OIx"
      },
      "source": [
        "## Training\n",
        "Below you need to implement the training of the model. We give you more freedom as for the implementation. The two limitations are that it has to execute within 10 minutes, and that error rate should be below 1%."
      ]
    },
    {
      "cell_type": "code",
      "source": [
        "BATCH_SIZE = 50\n",
        "def train_model(model, criterion, optimizer):\n",
        "  sequence_length = 15\n",
        "  for _ in range(DATASET_SIZE // BATCH_SIZE):\n",
        "    x_batch_lst = []\n",
        "    y_batch_lst = []\n",
        "\n",
        "    for i in range(BATCH_SIZE):\n",
        "      x, y = next(iter(ds))\n",
        "      x_batch_lst.append(idx_to_onehot(x))\n",
        "      y_batch_lst.append(idx_to_onehot(y))\n",
        "\n",
        "    x_batch = torch.stack(x_batch_lst)\n",
        "    y_batch = torch.stack(y_batch_lst)\n",
        "    optimizer.zero_grad()\n",
        "    logits = model(x_batch)\n",
        "    loss = criterion(logits, y_batch)\n",
        "    loss.backward()\n",
        "    optimizer.step()\n",
        "\n",
        "\n",
        "    total = sequence_length * BATCH_SIZE\n",
        "    accuracy = (logits.argmax(dim=1) == y_batch.argmax(dim=1)).sum().item() / (x_batch.shape[0] * x_batch.shape[1])\n",
        "  return loss.item(), accuracy\n",
        "    \n",
        "    "
      ],
      "metadata": {
        "id": "6LPMUvePcfSD"
      },
      "execution_count": 30,
      "outputs": []
    },
    {
      "cell_type": "code",
      "metadata": {
        "id": "lUZkeRnVTNzG"
      },
      "source": [
        "def test_model(model, sequence_length=15):\n",
        "  \"\"\"\n",
        "  This is the test function that runs 100 different strings through your model,\n",
        "  and checks the error rate.\n",
        "  \"\"\"\n",
        "  D = 4\n",
        "  total = 0\n",
        "  correct = 0\n",
        "  for i in range(500):\n",
        "    s = ''.join([random.choice(string.ascii_lowercase) for i in range(random.randint(15, 25))])\n",
        "    result = model.test_run(s)\n",
        "    assert D > 0, 's[:-D] won\\'t work for D=0'\n",
        "    for c1, c2 in zip(s[:-D], result[D:]):\n",
        "      correct += int(c1 == c2)\n",
        "\n",
        "    \n",
        "    total += len(s) - D\n",
        "  print(\"S: \", s, \"\\nResult: \", result)\n",
        "\n",
        "  return correct / total"
      ],
      "execution_count": 31,
      "outputs": []
    },
    {
      "cell_type": "code",
      "source": [
        "\n",
        "def cross_validate(cls_type, hidden_units, n_epochs):\n",
        "  \n",
        "  print(f'testing {cls_type} with hidden units {hidden_units} epochs {n_epochs}')\n",
        "  model = cls_type(hidden_units)\n",
        "  for i in range(n_epochs):\n",
        "    loss, accuracy = train_model(model, criterion, optimizer)\n",
        "    print(f'epoch {i} loss = {loss}, accuracy = {accuracy}')\n",
        "  \n",
        "\n"
      ],
      "metadata": {
        "id": "pOFEhmB9nfRb"
      },
      "execution_count": null,
      "outputs": []
    },
    {
      "cell_type": "code",
      "metadata": {
        "id": "9lV9BscxCCAI",
        "outputId": "8d93eb02-9e2e-4cf3-f1ad-63603ac19f88",
        "colab": {
          "base_uri": "https://localhost:8080/",
          "height": 437
        }
      },
      "source": [
        "import time\n",
        "n_epochs = 10\n",
        "start_time = time.time()\n",
        "\n",
        "model = LSTMMemory(4)\n",
        "criterion   = torch.nn.CrossEntropyLoss()\n",
        "optimizer   = torch.optim.RMSprop(model.parameters(), lr=0.001)\n",
        "\n",
        "\n",
        "\n",
        "for i in range(n_epochs):\n",
        "  loss, accuracy = train_model(model, criterion, optimizer)\n",
        "  print(f'epoch {i} loss = {loss}, accuracy = {accuracy}')\n",
        "end_time = time.time()\n",
        "duration = end_time - start_time\n",
        "accuracy = test_model(model)\n",
        "assert duration < 600, 'execution took f{duration:.2f} seconds, which longer than 10 mins'\n",
        "assert accuracy > 0.99, f'accuracy is too low, got {accuracy}, need 0.99'\n",
        "print('tests passed')"
      ],
      "execution_count": 38,
      "outputs": [
        {
          "output_type": "stream",
          "name": "stdout",
          "text": [
            "epoch 0 loss = 1.1831740140914917, accuracy = 0.06133333333333333\n",
            "epoch 1 loss = 1.181373119354248, accuracy = 0.07333333333333333\n",
            "epoch 2 loss = 1.1721683740615845, accuracy = 0.1\n",
            "epoch 3 loss = 1.1640865802764893, accuracy = 0.10533333333333333\n",
            "epoch 4 loss = 1.1523140668869019, accuracy = 0.10933333333333334\n",
            "epoch 5 loss = 1.1472357511520386, accuracy = 0.124\n",
            "epoch 6 loss = 1.139076828956604, accuracy = 0.116\n",
            "epoch 7 loss = 1.1404592990875244, accuracy = 0.128\n",
            "epoch 8 loss = 1.1407935619354248, accuracy = 0.13066666666666665\n",
            "epoch 9 loss = 1.1264997720718384, accuracy = 0.136\n",
            "S:  fasixkakdvhusfemerzgksmga \n",
            "Result:  XXXyylyyyylllllllllllllll\n"
          ]
        },
        {
          "output_type": "error",
          "ename": "AssertionError",
          "evalue": "ignored",
          "traceback": [
            "\u001b[0;31m---------------------------------------------------------------------------\u001b[0m",
            "\u001b[0;31mAssertionError\u001b[0m                            Traceback (most recent call last)",
            "\u001b[0;32m<ipython-input-38-efe5ffa32976>\u001b[0m in \u001b[0;36m<module>\u001b[0;34m()\u001b[0m\n\u001b[1;32m     16\u001b[0m \u001b[0maccuracy\u001b[0m \u001b[0;34m=\u001b[0m \u001b[0mtest_model\u001b[0m\u001b[0;34m(\u001b[0m\u001b[0mmodel\u001b[0m\u001b[0;34m)\u001b[0m\u001b[0;34m\u001b[0m\u001b[0;34m\u001b[0m\u001b[0m\n\u001b[1;32m     17\u001b[0m \u001b[0;32massert\u001b[0m \u001b[0mduration\u001b[0m \u001b[0;34m<\u001b[0m \u001b[0;36m600\u001b[0m\u001b[0;34m,\u001b[0m \u001b[0;34m'execution took f{duration:.2f} seconds, which longer than 10 mins'\u001b[0m\u001b[0;34m\u001b[0m\u001b[0;34m\u001b[0m\u001b[0m\n\u001b[0;32m---> 18\u001b[0;31m \u001b[0;32massert\u001b[0m \u001b[0maccuracy\u001b[0m \u001b[0;34m>\u001b[0m \u001b[0;36m0.99\u001b[0m\u001b[0;34m,\u001b[0m \u001b[0;34mf'accuracy is too low, got {accuracy}, need 0.99'\u001b[0m\u001b[0;34m\u001b[0m\u001b[0;34m\u001b[0m\u001b[0m\n\u001b[0m\u001b[1;32m     19\u001b[0m \u001b[0mprint\u001b[0m\u001b[0;34m(\u001b[0m\u001b[0;34m'tests passed'\u001b[0m\u001b[0;34m)\u001b[0m\u001b[0;34m\u001b[0m\u001b[0;34m\u001b[0m\u001b[0m\n",
            "\u001b[0;31mAssertionError\u001b[0m: accuracy is too low, got 0.04531909610131612, need 0.99"
          ]
        }
      ]
    },
    {
      "cell_type": "code",
      "source": [
        ""
      ],
      "metadata": {
        "id": "mTbObbiQDSyq"
      },
      "execution_count": null,
      "outputs": []
    },
    {
      "cell_type": "markdown",
      "metadata": {
        "id": "sB0EVNBtDhpN"
      },
      "source": [
        "## Variable delay model\n",
        "\n",
        "Now, to make this more complicated, we want to have varialbe delay. So, now, the goal is to transform a sequence of pairs (character, delay) into a character sequence with given delay. Delay stays constant within one sequence."
      ]
    },
    {
      "cell_type": "markdown",
      "metadata": {
        "id": "3i_iwX_AEOCH"
      },
      "source": [
        "### Dataset\n",
        "As before, we first implement the dataset:"
      ]
    },
    {
      "cell_type": "code",
      "metadata": {
        "id": "E4G5b8kuEUEd"
      },
      "source": [
        "class VariableDelayEchoDataset(torch.utils.data.IterableDataset):\n",
        "\n",
        "  def __init__(self, max_delay=8, seq_length=20, size=1000):\n",
        "    self.max_delay = max_delay\n",
        "    self.seq_length = seq_length\n",
        "    self.size = size\n",
        "  \n",
        "  def __len__(self):\n",
        "    return self.size\n",
        "\n",
        "  def __iter__(self):\n",
        "    for _ in range(self.size):\n",
        "      seq = torch.tensor([random.choice(range(1, N + 1)) for i in range(self.seq_length)], dtype=torch.int64)\n",
        "      delay = random.randint(0, self.max_delay)\n",
        "      result = torch.cat((torch.zeros(delay), seq[:self.seq_length - delay])).type(torch.int64)\n",
        "      yield seq, delay, result"
      ],
      "execution_count": null,
      "outputs": []
    },
    {
      "cell_type": "markdown",
      "metadata": {
        "id": "oTRVOND3HEJZ"
      },
      "source": [
        "### Model\n",
        "\n",
        "And the model."
      ]
    },
    {
      "cell_type": "code",
      "metadata": {
        "id": "IYolFIB8Hg0U"
      },
      "source": [
        "class VariableDelayGRUMemory(torch.nn.Module):\n",
        "\n",
        "  def __init__(self, hidden_size, max_delay):\n",
        "    super().__init__()\n",
        "    #TODO\n",
        "\n",
        "  def forward(self, x, delays):\n",
        "    # inputs:\n",
        "    # x - tensor of shape (batch size, seq length, N + 1)\n",
        "    # delays - tensor of shape (batch size)\n",
        "    # returns:\n",
        "    # logits (scores for softmax) of shape (batch size, seq_length, N + 1)\n",
        "\n",
        "    # TODO\n",
        "    pass\n",
        "\n",
        "  @torch.no_grad()\n",
        "  def test_run(self, s, delay):\n",
        "    # This function accepts one string s containing lowercase characters a-z, \n",
        "    # and a delay - the desired output delay.\n",
        "    # You need to map those characters to one-hot encodings, \n",
        "    # then get the result from your network, and then convert the output \n",
        "    # back to a string of the same length, with 0 mapped to ' ', \n",
        "    # and 1-26 mapped to a-z.\n",
        "\n",
        "    # TODO\n",
        "    pass\n"
      ],
      "execution_count": null,
      "outputs": []
    },
    {
      "cell_type": "markdown",
      "metadata": {
        "id": "riu3qHWgKjsx"
      },
      "source": [
        "### Train\n",
        "\n",
        "As before, you're free to do what you want, as long as training finishes within 10 minutes and accuracy is above 0.99 for delays between 0 and 8."
      ]
    },
    {
      "cell_type": "code",
      "metadata": {
        "id": "4FZHojnGO3aw"
      },
      "source": [
        "def test_variable_delay_model(model, seq_length=20):\n",
        "  \"\"\"\n",
        "  This is the test function that runs 100 different strings through your model,\n",
        "  and checks the error rate.\n",
        "  \"\"\"\n",
        "  total = 0\n",
        "  correct = 0\n",
        "  for i in range(500):\n",
        "    s = ''.join([random.choice(string.ascii_lowercase) for i in range(seq_length)])\n",
        "    d = random.randint(0, model.max_delay)\n",
        "    result = model.test_run(s, d)\n",
        "    if d > 0:\n",
        "      z = zip(s[:-d], result[d:])\n",
        "    else:\n",
        "      z = zip(s, result)\n",
        "    for c1, c2 in z:\n",
        "      correct += int(c1 == c2)\n",
        "    total += len(s) - d\n",
        "\n",
        "  return correct / total"
      ],
      "execution_count": null,
      "outputs": []
    },
    {
      "cell_type": "code",
      "metadata": {
        "id": "YJ18Ef6vKi4s"
      },
      "source": [
        "import time\n",
        "start_time = time.time()\n",
        "\n",
        "MAX_DELAY = 8\n",
        "SEQ_LENGTH = 20\n",
        "\n",
        "# TODO: implement model training here.\n",
        "model = None\n",
        "\n",
        "end_time = time.time()\n",
        "assert end_time - start_time < 600, 'executing took longer than 10 mins'\n",
        "assert test_variable_delay_model(model) > 0.99, 'accuracy is too low'\n",
        "print('tests passed')"
      ],
      "execution_count": null,
      "outputs": []
    }
  ]
}